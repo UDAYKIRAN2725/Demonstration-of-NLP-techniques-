{
 "cells": [
  {
   "cell_type": "code",
   "execution_count": 3,
   "metadata": {},
   "outputs": [],
   "source": [
    "paragraph=\"Modi was born and raised in Vadnagar in northeastern Gujarat, where he completed his secondary education. He was introduced to the RSS at the age of eight. At the age of 18, he was married to Jashodaben Modi, whom he abandoned soon after, only publicly acknowledging her four decades later when legally required to do so. Modi became a full-time worker for the RSS in Gujarat in 1971. The RSS assigned him to the BJP in 1985 and he rose through the party hierarchy, becoming general secretary in 1998.[b] In 2001, Modi was appointed Chief Minister of Gujarat and elected to the legislative assembly soon after. His administration is considered complicit in the 2002 Gujarat riots,[c] and has been criticised for its management of the crisis. According to official records, a little over 1,000 people were killed, three-quarters of whom were Muslim;\""
   ]
  },
  {
   "cell_type": "code",
   "execution_count": 4,
   "metadata": {},
   "outputs": [],
   "source": [
    "from nltk.stem import PorterStemmer\n",
    "from nltk.corpus import stopwords"
   ]
  },
  {
   "cell_type": "code",
   "execution_count": 5,
   "metadata": {},
   "outputs": [
    {
     "name": "stderr",
     "output_type": "stream",
     "text": [
      "[nltk_data] Downloading package punkt to\n",
      "[nltk_data]     C:\\Users\\udayk\\AppData\\Roaming\\nltk_data...\n",
      "[nltk_data]   Package punkt is already up-to-date!\n"
     ]
    }
   ],
   "source": [
    "import nltk\n",
    "nltk.download('punkt')\n",
    "paragraph=nltk.sent_tokenize(paragraph)"
   ]
  },
  {
   "cell_type": "code",
   "execution_count": 6,
   "metadata": {},
   "outputs": [
    {
     "data": {
      "text/plain": [
       "['Modi was born and raised in Vadnagar in northeastern Gujarat, where he completed his secondary education.',\n",
       " 'He was introduced to the RSS at the age of eight.',\n",
       " 'At the age of 18, he was married to Jashodaben Modi, whom he abandoned soon after, only publicly acknowledging her four decades later when legally required to do so.',\n",
       " 'Modi became a full-time worker for the RSS in Gujarat in 1971.',\n",
       " 'The RSS assigned him to the BJP in 1985 and he rose through the party hierarchy, becoming general secretary in 1998.',\n",
       " '[b] In 2001, Modi was appointed Chief Minister of Gujarat and elected to the legislative assembly soon after.',\n",
       " 'His administration is considered complicit in the 2002 Gujarat riots,[c] and has been criticised for its management of the crisis.',\n",
       " 'According to official records, a little over 1,000 people were killed, three-quarters of whom were Muslim;']"
      ]
     },
     "execution_count": 6,
     "metadata": {},
     "output_type": "execute_result"
    }
   ],
   "source": [
    "paragraph"
   ]
  },
  {
   "cell_type": "code",
   "execution_count": 7,
   "metadata": {},
   "outputs": [
    {
     "name": "stdout",
     "output_type": "stream",
     "text": [
      "Modi was born and raised in Vadnagar in northeastern Gujarat, where he completed his secondary education.\n",
      "\n",
      "\n",
      "He was introduced to the RSS at the age of eight.\n",
      "\n",
      "\n",
      "At the age of 18, he was married to Jashodaben Modi, whom he abandoned soon after, only publicly acknowledging her four decades later when legally required to do so.\n",
      "\n",
      "\n",
      "Modi became a full-time worker for the RSS in Gujarat in 1971.\n",
      "\n",
      "\n",
      "The RSS assigned him to the BJP in 1985 and he rose through the party hierarchy, becoming general secretary in 1998.\n",
      "\n",
      "\n",
      "[b] In 2001, Modi was appointed Chief Minister of Gujarat and elected to the legislative assembly soon after.\n",
      "\n",
      "\n",
      "His administration is considered complicit in the 2002 Gujarat riots,[c] and has been criticised for its management of the crisis.\n",
      "\n",
      "\n",
      "According to official records, a little over 1,000 people were killed, three-quarters of whom were Muslim;\n",
      "\n",
      "\n"
     ]
    }
   ],
   "source": [
    "for i in paragraph:\n",
    "    print(i)\n",
    "    print(\"\\n\")"
   ]
  },
  {
   "cell_type": "code",
   "execution_count": 8,
   "metadata": {},
   "outputs": [
    {
     "data": {
      "text/plain": [
       "'go'"
      ]
     },
     "execution_count": 8,
     "metadata": {},
     "output_type": "execute_result"
    }
   ],
   "source": [
    "stemmer=PorterStemmer()\n",
    "stemmer.stem('going')"
   ]
  },
  {
   "cell_type": "code",
   "execution_count": 9,
   "metadata": {},
   "outputs": [
    {
     "data": {
      "text/plain": [
       "'histori'"
      ]
     },
     "execution_count": 9,
     "metadata": {},
     "output_type": "execute_result"
    }
   ],
   "source": [
    "stemmer.stem('drinking')\n",
    "stemmer.stem('history')"
   ]
  },
  {
   "cell_type": "code",
   "execution_count": 10,
   "metadata": {},
   "outputs": [
    {
     "name": "stderr",
     "output_type": "stream",
     "text": [
      "[nltk_data] Downloading package wordnet to\n",
      "[nltk_data]     C:\\Users\\udayk\\AppData\\Roaming\\nltk_data...\n",
      "[nltk_data]   Package wordnet is already up-to-date!\n"
     ]
    },
    {
     "data": {
      "text/plain": [
       "'going'"
      ]
     },
     "execution_count": 10,
     "metadata": {},
     "output_type": "execute_result"
    }
   ],
   "source": [
    "nltk.download('wordnet')\n",
    "from nltk.stem import WordNetLemmatizer\n",
    "lemmatizer=WordNetLemmatizer()\n",
    "lemmatizer.lemmatize('going')"
   ]
  },
  {
   "cell_type": "code",
   "execution_count": 11,
   "metadata": {},
   "outputs": [
    {
     "data": {
      "text/plain": [
       "'history'"
      ]
     },
     "execution_count": 11,
     "metadata": {},
     "output_type": "execute_result"
    }
   ],
   "source": [
    "lemmatizer.lemmatize('history')"
   ]
  },
  {
   "cell_type": "code",
   "execution_count": 12,
   "metadata": {},
   "outputs": [],
   "source": [
    "import re\n",
    "corpus=[]\n",
    "for i in range(len(paragraph)):\n",
    "    review=re.sub('[^a-zA-Z]',' ',paragraph[i])\n",
    "    review=review.lower()\n",
    "    corpus.append(review)"
   ]
  },
  {
   "cell_type": "code",
   "execution_count": 13,
   "metadata": {},
   "outputs": [
    {
     "data": {
      "text/plain": [
       "['modi was born and raised in vadnagar in northeastern gujarat  where he completed his secondary education ',\n",
       " 'he was introduced to the rss at the age of eight ',\n",
       " 'at the age of     he was married to jashodaben modi  whom he abandoned soon after  only publicly acknowledging her four decades later when legally required to do so ',\n",
       " 'modi became a full time worker for the rss in gujarat in      ',\n",
       " 'the rss assigned him to the bjp in      and he rose through the party hierarchy  becoming general secretary in      ',\n",
       " ' b  in       modi was appointed chief minister of gujarat and elected to the legislative assembly soon after ',\n",
       " 'his administration is considered complicit in the      gujarat riots  c  and has been criticised for its management of the crisis ',\n",
       " 'according to official records  a little over       people were killed  three quarters of whom were muslim ']"
      ]
     },
     "execution_count": 13,
     "metadata": {},
     "output_type": "execute_result"
    }
   ],
   "source": [
    "corpus"
   ]
  },
  {
   "cell_type": "code",
   "execution_count": 14,
   "metadata": {},
   "outputs": [
    {
     "name": "stderr",
     "output_type": "stream",
     "text": [
      "[nltk_data] Downloading package stopwords to\n",
      "[nltk_data]     C:\\Users\\udayk\\AppData\\Roaming\\nltk_data...\n",
      "[nltk_data]   Package stopwords is already up-to-date!\n"
     ]
    },
    {
     "data": {
      "text/plain": [
       "['i',\n",
       " 'me',\n",
       " 'my',\n",
       " 'myself',\n",
       " 'we',\n",
       " 'our',\n",
       " 'ours',\n",
       " 'ourselves',\n",
       " 'you',\n",
       " \"you're\",\n",
       " \"you've\",\n",
       " \"you'll\",\n",
       " \"you'd\",\n",
       " 'your',\n",
       " 'yours',\n",
       " 'yourself',\n",
       " 'yourselves',\n",
       " 'he',\n",
       " 'him',\n",
       " 'his',\n",
       " 'himself',\n",
       " 'she',\n",
       " \"she's\",\n",
       " 'her',\n",
       " 'hers',\n",
       " 'herself',\n",
       " 'it',\n",
       " \"it's\",\n",
       " 'its',\n",
       " 'itself',\n",
       " 'they',\n",
       " 'them',\n",
       " 'their',\n",
       " 'theirs',\n",
       " 'themselves',\n",
       " 'what',\n",
       " 'which',\n",
       " 'who',\n",
       " 'whom',\n",
       " 'this',\n",
       " 'that',\n",
       " \"that'll\",\n",
       " 'these',\n",
       " 'those',\n",
       " 'am',\n",
       " 'is',\n",
       " 'are',\n",
       " 'was',\n",
       " 'were',\n",
       " 'be',\n",
       " 'been',\n",
       " 'being',\n",
       " 'have',\n",
       " 'has',\n",
       " 'had',\n",
       " 'having',\n",
       " 'do',\n",
       " 'does',\n",
       " 'did',\n",
       " 'doing',\n",
       " 'a',\n",
       " 'an',\n",
       " 'the',\n",
       " 'and',\n",
       " 'but',\n",
       " 'if',\n",
       " 'or',\n",
       " 'because',\n",
       " 'as',\n",
       " 'until',\n",
       " 'while',\n",
       " 'of',\n",
       " 'at',\n",
       " 'by',\n",
       " 'for',\n",
       " 'with',\n",
       " 'about',\n",
       " 'against',\n",
       " 'between',\n",
       " 'into',\n",
       " 'through',\n",
       " 'during',\n",
       " 'before',\n",
       " 'after',\n",
       " 'above',\n",
       " 'below',\n",
       " 'to',\n",
       " 'from',\n",
       " 'up',\n",
       " 'down',\n",
       " 'in',\n",
       " 'out',\n",
       " 'on',\n",
       " 'off',\n",
       " 'over',\n",
       " 'under',\n",
       " 'again',\n",
       " 'further',\n",
       " 'then',\n",
       " 'once',\n",
       " 'here',\n",
       " 'there',\n",
       " 'when',\n",
       " 'where',\n",
       " 'why',\n",
       " 'how',\n",
       " 'all',\n",
       " 'any',\n",
       " 'both',\n",
       " 'each',\n",
       " 'few',\n",
       " 'more',\n",
       " 'most',\n",
       " 'other',\n",
       " 'some',\n",
       " 'such',\n",
       " 'no',\n",
       " 'nor',\n",
       " 'not',\n",
       " 'only',\n",
       " 'own',\n",
       " 'same',\n",
       " 'so',\n",
       " 'than',\n",
       " 'too',\n",
       " 'very',\n",
       " 's',\n",
       " 't',\n",
       " 'can',\n",
       " 'will',\n",
       " 'just',\n",
       " 'don',\n",
       " \"don't\",\n",
       " 'should',\n",
       " \"should've\",\n",
       " 'now',\n",
       " 'd',\n",
       " 'll',\n",
       " 'm',\n",
       " 'o',\n",
       " 're',\n",
       " 've',\n",
       " 'y',\n",
       " 'ain',\n",
       " 'aren',\n",
       " \"aren't\",\n",
       " 'couldn',\n",
       " \"couldn't\",\n",
       " 'didn',\n",
       " \"didn't\",\n",
       " 'doesn',\n",
       " \"doesn't\",\n",
       " 'hadn',\n",
       " \"hadn't\",\n",
       " 'hasn',\n",
       " \"hasn't\",\n",
       " 'haven',\n",
       " \"haven't\",\n",
       " 'isn',\n",
       " \"isn't\",\n",
       " 'ma',\n",
       " 'mightn',\n",
       " \"mightn't\",\n",
       " 'mustn',\n",
       " \"mustn't\",\n",
       " 'needn',\n",
       " \"needn't\",\n",
       " 'shan',\n",
       " \"shan't\",\n",
       " 'shouldn',\n",
       " \"shouldn't\",\n",
       " 'wasn',\n",
       " \"wasn't\",\n",
       " 'weren',\n",
       " \"weren't\",\n",
       " 'won',\n",
       " \"won't\",\n",
       " 'wouldn',\n",
       " \"wouldn't\"]"
      ]
     },
     "execution_count": 14,
     "metadata": {},
     "output_type": "execute_result"
    }
   ],
   "source": [
    "nltk.download('stopwords')\n",
    "stopwords.words('english')"
   ]
  },
  {
   "cell_type": "code",
   "execution_count": 15,
   "metadata": {},
   "outputs": [
    {
     "name": "stdout",
     "output_type": "stream",
     "text": [
      "modi\n",
      "born\n",
      "rais\n",
      "vadnagar\n",
      "northeastern\n",
      "gujarat\n",
      "complet\n",
      "secondari\n",
      "educ\n",
      "introduc\n",
      "rss\n",
      "age\n",
      "eight\n",
      "age\n",
      "marri\n",
      "jashodaben\n",
      "modi\n",
      "abandon\n",
      "soon\n",
      "publicli\n",
      "acknowledg\n",
      "four\n",
      "decad\n",
      "later\n",
      "legal\n",
      "requir\n",
      "modi\n",
      "becam\n",
      "full\n",
      "time\n",
      "worker\n",
      "rss\n",
      "gujarat\n",
      "rss\n",
      "assign\n",
      "bjp\n",
      "rose\n",
      "parti\n",
      "hierarchi\n",
      "becom\n",
      "gener\n",
      "secretari\n",
      "b\n",
      "modi\n",
      "appoint\n",
      "chief\n",
      "minist\n",
      "gujarat\n",
      "elect\n",
      "legisl\n",
      "assembl\n",
      "soon\n",
      "administr\n",
      "consid\n",
      "complicit\n",
      "gujarat\n",
      "riot\n",
      "c\n",
      "criticis\n",
      "manag\n",
      "crisi\n",
      "accord\n",
      "offici\n",
      "record\n",
      "littl\n",
      "peopl\n",
      "kill\n",
      "three\n",
      "quarter\n",
      "muslim\n"
     ]
    }
   ],
   "source": [
    "for i in corpus:\n",
    "    words=nltk.word_tokenize(i)\n",
    "    for word in words:\n",
    "        if word not in set(stopwords.words('english')):\n",
    "            print(stemmer.stem(word))"
   ]
  },
  {
   "cell_type": "code",
   "execution_count": 16,
   "metadata": {},
   "outputs": [
    {
     "name": "stdout",
     "output_type": "stream",
     "text": [
      "modi\n",
      "born\n",
      "raised\n",
      "vadnagar\n",
      "northeastern\n",
      "gujarat\n",
      "completed\n",
      "secondary\n",
      "education\n",
      "introduced\n",
      "r\n",
      "age\n",
      "eight\n",
      "age\n",
      "married\n",
      "jashodaben\n",
      "modi\n",
      "abandoned\n",
      "soon\n",
      "publicly\n",
      "acknowledging\n",
      "four\n",
      "decade\n",
      "later\n",
      "legally\n",
      "required\n",
      "modi\n",
      "became\n",
      "full\n",
      "time\n",
      "worker\n",
      "r\n",
      "gujarat\n",
      "r\n",
      "assigned\n",
      "bjp\n",
      "rose\n",
      "party\n",
      "hierarchy\n",
      "becoming\n",
      "general\n",
      "secretary\n",
      "b\n",
      "modi\n",
      "appointed\n",
      "chief\n",
      "minister\n",
      "gujarat\n",
      "elected\n",
      "legislative\n",
      "assembly\n",
      "soon\n",
      "administration\n",
      "considered\n",
      "complicit\n",
      "gujarat\n",
      "riot\n",
      "c\n",
      "criticised\n",
      "management\n",
      "crisis\n",
      "according\n",
      "official\n",
      "record\n",
      "little\n",
      "people\n",
      "killed\n",
      "three\n",
      "quarter\n",
      "muslim\n"
     ]
    }
   ],
   "source": [
    "for i in corpus:\n",
    "    words=nltk.word_tokenize(i)\n",
    "    for word in words:\n",
    "        if word not in set(stopwords.words('english')):\n",
    "            print(lemmatizer.lemmatize(word))"
   ]
  },
  {
   "cell_type": "code",
   "execution_count": 17,
   "metadata": {},
   "outputs": [],
   "source": [
    "from sklearn.feature_extraction.text import CountVectorizer\n",
    "cv=CountVectorizer()\n",
    "X=cv.fit_transform(corpus)"
   ]
  },
  {
   "cell_type": "code",
   "execution_count": 18,
   "metadata": {},
   "outputs": [
    {
     "data": {
      "text/plain": [
       "<1x84 sparse matrix of type '<class 'numpy.int64'>'\n",
       "\twith 15 stored elements in Compressed Sparse Row format>"
      ]
     },
     "execution_count": 18,
     "metadata": {},
     "output_type": "execute_result"
    }
   ],
   "source": [
    "X[0]"
   ]
  },
  {
   "cell_type": "code",
   "execution_count": 19,
   "metadata": {},
   "outputs": [
    {
     "name": "stdout",
     "output_type": "stream",
     "text": [
      "84\n"
     ]
    },
    {
     "data": {
      "text/plain": [
       "{'modi': 51,\n",
       " 'was': 78,\n",
       " 'born': 15,\n",
       " 'and': 6,\n",
       " 'raised': 62,\n",
       " 'in': 38,\n",
       " 'vadnagar': 77,\n",
       " 'northeastern': 53,\n",
       " 'gujarat': 31,\n",
       " 'where': 81,\n",
       " 'he': 33,\n",
       " 'completed': 17,\n",
       " 'his': 37,\n",
       " 'secondary': 68,\n",
       " 'education': 24,\n",
       " 'introduced': 39,\n",
       " 'to': 76,\n",
       " 'the': 72,\n",
       " 'rss': 67,\n",
       " 'at': 10,\n",
       " 'age': 5,\n",
       " 'of': 54,\n",
       " 'eight': 25,\n",
       " 'married': 49,\n",
       " 'jashodaben': 42,\n",
       " 'whom': 82,\n",
       " 'abandoned': 0,\n",
       " 'soon': 71,\n",
       " 'after': 4,\n",
       " 'only': 56,\n",
       " 'publicly': 60,\n",
       " 'acknowledging': 2,\n",
       " 'her': 34,\n",
       " 'four': 28,\n",
       " 'decades': 22,\n",
       " 'later': 44,\n",
       " 'when': 80,\n",
       " 'legally': 45,\n",
       " 'required': 64,\n",
       " 'do': 23,\n",
       " 'so': 70,\n",
       " 'became': 11,\n",
       " 'full': 29,\n",
       " 'time': 75,\n",
       " 'worker': 83,\n",
       " 'for': 27,\n",
       " 'assigned': 9,\n",
       " 'him': 36,\n",
       " 'bjp': 14,\n",
       " 'rose': 66,\n",
       " 'through': 74,\n",
       " 'party': 58,\n",
       " 'hierarchy': 35,\n",
       " 'becoming': 12,\n",
       " 'general': 30,\n",
       " 'secretary': 69,\n",
       " 'appointed': 7,\n",
       " 'chief': 16,\n",
       " 'minister': 50,\n",
       " 'elected': 26,\n",
       " 'legislative': 46,\n",
       " 'assembly': 8,\n",
       " 'administration': 3,\n",
       " 'is': 40,\n",
       " 'considered': 19,\n",
       " 'complicit': 18,\n",
       " 'riots': 65,\n",
       " 'has': 32,\n",
       " 'been': 13,\n",
       " 'criticised': 21,\n",
       " 'its': 41,\n",
       " 'management': 48,\n",
       " 'crisis': 20,\n",
       " 'according': 1,\n",
       " 'official': 55,\n",
       " 'records': 63,\n",
       " 'little': 47,\n",
       " 'over': 57,\n",
       " 'people': 59,\n",
       " 'were': 79,\n",
       " 'killed': 43,\n",
       " 'three': 73,\n",
       " 'quarters': 61,\n",
       " 'muslim': 52}"
      ]
     },
     "execution_count": 19,
     "metadata": {},
     "output_type": "execute_result"
    }
   ],
   "source": [
    "print(len(cv.vocabulary_))\n",
    "cv.vocabulary_\n",
    "# shows the indices of the every word in the vector represetation "
   ]
  },
  {
   "cell_type": "code",
   "execution_count": 20,
   "metadata": {},
   "outputs": [
    {
     "data": {
      "text/plain": [
       "'modi was born and raised in vadnagar in northeastern gujarat  where he completed his secondary education '"
      ]
     },
     "execution_count": 20,
     "metadata": {},
     "output_type": "execute_result"
    }
   ],
   "source": [
    "corpus[0]"
   ]
  },
  {
   "cell_type": "code",
   "execution_count": 21,
   "metadata": {},
   "outputs": [
    {
     "data": {
      "text/plain": [
       "array([[0, 0, 0, 0, 0, 0, 1, 0, 0, 0, 0, 0, 0, 0, 0, 1, 0, 1, 0, 0, 0, 0,\n",
       "        0, 0, 1, 0, 0, 0, 0, 0, 0, 1, 0, 1, 0, 0, 0, 1, 2, 0, 0, 0, 0, 0,\n",
       "        0, 0, 0, 0, 0, 0, 0, 1, 0, 1, 0, 0, 0, 0, 0, 0, 0, 0, 1, 0, 0, 0,\n",
       "        0, 0, 1, 0, 0, 0, 0, 0, 0, 0, 0, 1, 1, 0, 0, 1, 0, 0]],\n",
       "      dtype=int64)"
      ]
     },
     "execution_count": 21,
     "metadata": {},
     "output_type": "execute_result"
    }
   ],
   "source": [
    "X[0].toarray()"
   ]
  },
  {
   "cell_type": "code",
   "execution_count": 22,
   "metadata": {},
   "outputs": [],
   "source": [
    "import re\n",
    "corpus=[]\n",
    "for i in range(len(paragraph)):\n",
    "    review=re.sub('[^a-zA-Z]',' ',paragraph[i])\n",
    "    review=review.lower()\n",
    "    review=review.split()\n",
    "    review=[lemmatizer.lemmatize(word) for word in review if not word in set(stopwords.words('english'))]\n",
    "    review=' '.join(review)\n",
    "    corpus.append(review)"
   ]
  },
  {
   "cell_type": "code",
   "execution_count": 23,
   "metadata": {},
   "outputs": [
    {
     "data": {
      "text/plain": [
       "['modi born raised vadnagar northeastern gujarat completed secondary education',\n",
       " 'introduced r age eight',\n",
       " 'age married jashodaben modi abandoned soon publicly acknowledging four decade later legally required',\n",
       " 'modi became full time worker r gujarat',\n",
       " 'r assigned bjp rose party hierarchy becoming general secretary',\n",
       " 'b modi appointed chief minister gujarat elected legislative assembly soon',\n",
       " 'administration considered complicit gujarat riot c criticised management crisis',\n",
       " 'according official record little people killed three quarter muslim']"
      ]
     },
     "execution_count": 23,
     "metadata": {},
     "output_type": "execute_result"
    }
   ],
   "source": [
    "corpus"
   ]
  },
  {
   "cell_type": "markdown",
   "metadata": {},
   "source": [
    "\n",
    "from sklearn.feature_extraction.text import CountVectorizer\n",
    "cv=CountVectorizer()\n",
    "X=cv.fit_transform(corpus)"
   ]
  },
  {
   "cell_type": "code",
   "execution_count": 34,
   "metadata": {},
   "outputs": [],
   "source": [
    "# Bag of Words\n",
    "from sklearn.feature_extraction.text import CountVectorizer \n",
    "cv=CountVectorizer() \n",
    "X=cv.fit_transform(corpus)"
   ]
  },
  {
   "cell_type": "code",
   "execution_count": 35,
   "metadata": {},
   "outputs": [
    {
     "name": "stdout",
     "output_type": "stream",
     "text": [
      "57\n"
     ]
    },
    {
     "data": {
      "text/plain": [
       "{'modi': 37,\n",
       " 'born': 11,\n",
       " 'raised': 45,\n",
       " 'vadnagar': 55,\n",
       " 'northeastern': 39,\n",
       " 'gujarat': 25,\n",
       " 'completed': 13,\n",
       " 'secondary': 50,\n",
       " 'education': 19,\n",
       " 'introduced': 27,\n",
       " 'age': 4,\n",
       " 'eight': 20,\n",
       " 'married': 35,\n",
       " 'jashodaben': 28,\n",
       " 'abandoned': 0,\n",
       " 'soon': 52,\n",
       " 'publicly': 43,\n",
       " 'acknowledging': 2,\n",
       " 'four': 22,\n",
       " 'decade': 18,\n",
       " 'later': 30,\n",
       " 'legally': 31,\n",
       " 'required': 47,\n",
       " 'became': 8,\n",
       " 'full': 23,\n",
       " 'time': 54,\n",
       " 'worker': 56,\n",
       " 'assigned': 7,\n",
       " 'bjp': 10,\n",
       " 'rose': 49,\n",
       " 'party': 41,\n",
       " 'hierarchy': 26,\n",
       " 'becoming': 9,\n",
       " 'general': 24,\n",
       " 'secretary': 51,\n",
       " 'appointed': 5,\n",
       " 'chief': 12,\n",
       " 'minister': 36,\n",
       " 'elected': 21,\n",
       " 'legislative': 32,\n",
       " 'assembly': 6,\n",
       " 'administration': 3,\n",
       " 'considered': 15,\n",
       " 'complicit': 14,\n",
       " 'riot': 48,\n",
       " 'criticised': 17,\n",
       " 'management': 34,\n",
       " 'crisis': 16,\n",
       " 'according': 1,\n",
       " 'official': 40,\n",
       " 'record': 46,\n",
       " 'little': 33,\n",
       " 'people': 42,\n",
       " 'killed': 29,\n",
       " 'three': 53,\n",
       " 'quarter': 44,\n",
       " 'muslim': 38}"
      ]
     },
     "execution_count": 35,
     "metadata": {},
     "output_type": "execute_result"
    }
   ],
   "source": [
    "print(len(cv.vocabulary_))\n",
    "cv.vocabulary_"
   ]
  },
  {
   "cell_type": "code",
   "execution_count": 36,
   "metadata": {},
   "outputs": [
    {
     "data": {
      "text/plain": [
       "'modi born raised vadnagar northeastern gujarat completed secondary education'"
      ]
     },
     "execution_count": 36,
     "metadata": {},
     "output_type": "execute_result"
    }
   ],
   "source": [
    "corpus[0]"
   ]
  },
  {
   "cell_type": "code",
   "execution_count": 37,
   "metadata": {},
   "outputs": [
    {
     "data": {
      "text/plain": [
       "array([[0, 0, 0, 0, 0, 0, 0, 0, 0, 0, 0, 1, 0, 1, 0, 0, 0, 0, 0, 1, 0, 0,\n",
       "        0, 0, 0, 1, 0, 0, 0, 0, 0, 0, 0, 0, 0, 0, 0, 1, 0, 1, 0, 0, 0, 0,\n",
       "        0, 1, 0, 0, 0, 0, 1, 0, 0, 0, 0, 1, 0]], dtype=int64)"
      ]
     },
     "execution_count": 37,
     "metadata": {},
     "output_type": "execute_result"
    }
   ],
   "source": [
    "X[0].toarray()"
   ]
  },
  {
   "cell_type": "code",
   "execution_count": 38,
   "metadata": {},
   "outputs": [
    {
     "data": {
      "text/plain": [
       "array([[0, 0, 0, 0, 0, 0, 0, 0, 0, 0, 0, 0, 0, 0, 0, 0, 0, 0, 0, 0, 0, 0,\n",
       "        1, 1, 0, 0, 1, 1, 0, 0, 0, 0, 0, 0, 0, 0, 0, 0, 0, 0, 0, 0, 0, 1,\n",
       "        1, 0, 0, 0, 0, 0, 0, 0, 0, 0, 0, 0, 0, 0, 0, 0, 0, 0, 0, 0, 0, 0,\n",
       "        0, 0, 0, 0, 0, 0, 0, 0, 0, 1, 1, 1, 1, 0, 0, 0, 0, 0, 0, 0, 0, 0,\n",
       "        1, 1, 0, 0, 0, 0, 0, 0, 1, 0, 0, 0, 0, 0, 0, 1, 1, 0]],\n",
       "      dtype=int64)"
      ]
     },
     "execution_count": 38,
     "metadata": {},
     "output_type": "execute_result"
    }
   ],
   "source": [
    "from sklearn.feature_extraction.text import CountVectorizer\n",
    "cv=CountVectorizer(binary=True,ngram_range=(2,3))\n",
    "#here ngram = (2,3) means it takes possible combinations of 2 and 3 words as a single word and they are kept as columns in the table\n",
    "X=cv.fit_transform(corpus)\n",
    "X[0].toarray()"
   ]
  },
  {
   "cell_type": "code",
   "execution_count": 39,
   "metadata": {},
   "outputs": [
    {
     "name": "stdout",
     "output_type": "stream",
     "text": [
      "106\n"
     ]
    },
    {
     "data": {
      "text/plain": [
       "{'modi born': 75,\n",
       " 'born raised': 22,\n",
       " 'raised vadnagar': 88,\n",
       " 'vadnagar northeastern': 103,\n",
       " 'northeastern gujarat': 77,\n",
       " 'gujarat completed': 43,\n",
       " 'completed secondary': 26,\n",
       " 'secondary education': 96,\n",
       " 'modi born raised': 76,\n",
       " 'born raised vadnagar': 23,\n",
       " 'raised vadnagar northeastern': 89,\n",
       " 'vadnagar northeastern gujarat': 104,\n",
       " 'northeastern gujarat completed': 78,\n",
       " 'gujarat completed secondary': 44,\n",
       " 'completed secondary education': 27,\n",
       " 'introduced age': 51,\n",
       " 'age eight': 8,\n",
       " 'introduced age eight': 52,\n",
       " 'age married': 9,\n",
       " 'married jashodaben': 65,\n",
       " 'jashodaben modi': 53,\n",
       " 'modi abandoned': 69,\n",
       " 'abandoned soon': 0,\n",
       " 'soon publicly': 97,\n",
       " 'publicly acknowledging': 85,\n",
       " 'acknowledging four': 4,\n",
       " 'four decade': 38,\n",
       " 'decade later': 34,\n",
       " 'later legally': 57,\n",
       " 'legally required': 59,\n",
       " 'age married jashodaben': 10,\n",
       " 'married jashodaben modi': 66,\n",
       " 'jashodaben modi abandoned': 54,\n",
       " 'modi abandoned soon': 70,\n",
       " 'abandoned soon publicly': 1,\n",
       " 'soon publicly acknowledging': 98,\n",
       " 'publicly acknowledging four': 86,\n",
       " 'acknowledging four decade': 5,\n",
       " 'four decade later': 39,\n",
       " 'decade later legally': 35,\n",
       " 'later legally required': 58,\n",
       " 'modi became': 73,\n",
       " 'became full': 16,\n",
       " 'full time': 40,\n",
       " 'time worker': 101,\n",
       " 'worker gujarat': 105,\n",
       " 'modi became full': 74,\n",
       " 'became full time': 17,\n",
       " 'full time worker': 41,\n",
       " 'time worker gujarat': 102,\n",
       " 'assigned bjp': 14,\n",
       " 'bjp rose': 20,\n",
       " 'rose party': 94,\n",
       " 'party hierarchy': 81,\n",
       " 'hierarchy becoming': 49,\n",
       " 'becoming general': 18,\n",
       " 'general secretary': 42,\n",
       " 'assigned bjp rose': 15,\n",
       " 'bjp rose party': 21,\n",
       " 'rose party hierarchy': 95,\n",
       " 'party hierarchy becoming': 82,\n",
       " 'hierarchy becoming general': 50,\n",
       " 'becoming general secretary': 19,\n",
       " 'modi appointed': 71,\n",
       " 'appointed chief': 11,\n",
       " 'chief minister': 24,\n",
       " 'minister gujarat': 67,\n",
       " 'gujarat elected': 45,\n",
       " 'elected legislative': 36,\n",
       " 'legislative assembly': 60,\n",
       " 'assembly soon': 13,\n",
       " 'modi appointed chief': 72,\n",
       " 'appointed chief minister': 12,\n",
       " 'chief minister gujarat': 25,\n",
       " 'minister gujarat elected': 68,\n",
       " 'gujarat elected legislative': 46,\n",
       " 'elected legislative assembly': 37,\n",
       " 'legislative assembly soon': 61,\n",
       " 'administration considered': 6,\n",
       " 'considered complicit': 30,\n",
       " 'complicit gujarat': 28,\n",
       " 'gujarat riot': 47,\n",
       " 'riot criticised': 92,\n",
       " 'criticised management': 32,\n",
       " 'management crisis': 64,\n",
       " 'administration considered complicit': 7,\n",
       " 'considered complicit gujarat': 31,\n",
       " 'complicit gujarat riot': 29,\n",
       " 'gujarat riot criticised': 48,\n",
       " 'riot criticised management': 93,\n",
       " 'criticised management crisis': 33,\n",
       " 'according official': 2,\n",
       " 'official record': 79,\n",
       " 'record little': 90,\n",
       " 'little people': 62,\n",
       " 'people killed': 83,\n",
       " 'killed three': 55,\n",
       " 'three quarter': 99,\n",
       " 'quarter muslim': 87,\n",
       " 'according official record': 3,\n",
       " 'official record little': 80,\n",
       " 'record little people': 91,\n",
       " 'little people killed': 63,\n",
       " 'people killed three': 84,\n",
       " 'killed three quarter': 56,\n",
       " 'three quarter muslim': 100}"
      ]
     },
     "execution_count": 39,
     "metadata": {},
     "output_type": "execute_result"
    }
   ],
   "source": [
    "print(len(cv.vocabulary_))\n",
    "cv.vocabulary_"
   ]
  },
  {
   "cell_type": "code",
   "execution_count": 40,
   "metadata": {},
   "outputs": [],
   "source": [
    "#TF-IDF (term frequency - Inverse Document Frequency)\n",
    "from sklearn.feature_extraction.text import TfidfVectorizer\n",
    "cv=TfidfVectorizer()\n",
    "X=cv.fit_transform(corpus)"
   ]
  },
  {
   "cell_type": "code",
   "execution_count": 41,
   "metadata": {},
   "outputs": [
    {
     "data": {
      "text/plain": [
       "array([[0.        , 0.        , 0.        , 0.        , 0.        ,\n",
       "        0.        , 0.        , 0.        , 0.        , 0.        ,\n",
       "        0.        , 0.357963  , 0.        , 0.357963  , 0.        ,\n",
       "        0.        , 0.        , 0.        , 0.        , 0.357963  ,\n",
       "        0.        , 0.        , 0.        , 0.        , 0.        ,\n",
       "        0.22697736, 0.        , 0.        , 0.        , 0.        ,\n",
       "        0.        , 0.        , 0.        , 0.        , 0.        ,\n",
       "        0.        , 0.        , 0.22697736, 0.        , 0.357963  ,\n",
       "        0.        , 0.        , 0.        , 0.        , 0.        ,\n",
       "        0.357963  , 0.        , 0.        , 0.        , 0.        ,\n",
       "        0.357963  , 0.        , 0.        , 0.        , 0.        ,\n",
       "        0.357963  , 0.        ]])"
      ]
     },
     "execution_count": 41,
     "metadata": {},
     "output_type": "execute_result"
    }
   ],
   "source": [
    "X[0].toarray()"
   ]
  },
  {
   "cell_type": "code",
   "execution_count": null,
   "metadata": {},
   "outputs": [],
   "source": []
  },
  {
   "cell_type": "code",
   "execution_count": null,
   "metadata": {},
   "outputs": [],
   "source": []
  }
 ],
 "metadata": {
  "kernelspec": {
   "display_name": "Python 3 (ipykernel)",
   "language": "python",
   "name": "python3"
  },
  "language_info": {
   "codemirror_mode": {
    "name": "ipython",
    "version": 3
   },
   "file_extension": ".py",
   "mimetype": "text/x-python",
   "name": "python",
   "nbconvert_exporter": "python",
   "pygments_lexer": "ipython3",
   "version": "3.11.7"
  }
 },
 "nbformat": 4,
 "nbformat_minor": 4
}
